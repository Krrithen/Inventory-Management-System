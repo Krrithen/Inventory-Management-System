{
 "cells": [
  {
   "cell_type": "markdown",
   "metadata": {},
   "source": [
    "# Inventory Management System"
   ]
  },
  {
   "cell_type": "markdown",
   "metadata": {},
   "source": [
    "### Importing Libraries And Loading Data"
   ]
  },
  {
   "cell_type": "code",
   "execution_count": 22,
   "metadata": {},
   "outputs": [],
   "source": [
    "import json\n",
    "import pandas as pd\n",
    "from IPython.display import clear_output\n",
    "\n",
    "shop=open(\"shoprecored.json\",\"r\")\n",
    "sale=open(\"sales.json\",\"r\")\n",
    "shop_data=shop.read()\n",
    "sale_data=sale.read()\n",
    "record = json.loads(shop_data)\n",
    "record_sale=json.loads(sale_data)\n",
    "shop.close()\n",
    "sale.close()"
   ]
  },
  {
   "cell_type": "markdown",
   "metadata": {},
   "source": [
    "### Function to check Inventory Items"
   ]
  },
  {
   "cell_type": "code",
   "execution_count": 23,
   "metadata": {},
   "outputs": [],
   "source": [
    "def check_inventory_item():\n",
    "    print(\"\\n\\n\")\n",
    "    Item_ID = input(\"Enter Item ID: \")\n",
    "    if Item_ID in record.keys():\n",
    "        print(f\"Yes!! {Item_ID} is present\")\n",
    "        print(f\"Product ID: {Item_ID}\")\n",
    "        print(f\"Product Name: \" ,record[Item_ID][\"Item Name\"])\n",
    "        print(f\"Price: \" ,record[Item_ID][\"Price\"])\n",
    "        print(f\"Quantity: \" ,record[Item_ID][\"Quantity\"])\n",
    "    else:\n",
    "        print(f\"No!! {Item_ID} is not present\")\n"
   ]
  },
  {
   "cell_type": "markdown",
   "metadata": {},
   "source": [
    "### Function to update Inventory Items"
   ]
  },
  {
   "cell_type": "code",
   "execution_count": 24,
   "metadata": {},
   "outputs": [],
   "source": [
    "def update_item_inventory():\n",
    "    print(\"\\n\\n\")\n",
    "    Item_ID = input(\"Enter Item ID: \")\n",
    "    if Item_ID in record.keys():\n",
    "        print(f\"Product ID: {Item_ID}\")\n",
    "        print(f\"Product Name: \" ,record[Item_ID][\"Item Name\"])\n",
    "        print(f\"Price: \" ,record[Item_ID][\"Price\"])\n",
    "        print(f\"Quantity: \" ,record[Item_ID][\"Quantity\"])\n",
    "        change=int(input(\"\\nPress:\\n1. Update Price:\\n2.Update Quantity: \"))\n",
    "        if change==1:\n",
    "            pr=int(input(\"Enter updated Price: \"))\n",
    "            record[Item_ID] = {\"Item Name\": record[Item_ID][\"Item Name\"], \"Quantity\": record[Item_ID][\"Quantity\"], \"Price\": pr, \"Weight\": record[Item_ID][\"Weight\"], \"Category\": record[Item_ID][\"Category\"], \"Brand\": record[Item_ID][\"Brand\"] }\n",
    "            update_inventory()\n",
    "        elif change==2:\n",
    "            qn=int(input(\"Enter updated Quantity: \"))\n",
    "            record[Item_ID] = {\"Item Name\": record[Item_ID][\"Item Name\"], \"Quantity\": qn, \"Price\": record[Item_ID][\"Price\"], \"Weight\": record[Item_ID][\"Weight\"], \"Category\": record[Item_ID][\"Category\"], \"Brand\": record[Item_ID][\"Brand\"] }\n",
    "            update_inventory()\n",
    "        else:\n",
    "            print(\"Invalid option selected\")\n",
    "\n",
    "    else:\n",
    "        print(f\"No!! {Item_ID} is not present\")"
   ]
  },
  {
   "cell_type": "markdown",
   "metadata": {},
   "source": [
    "### Function to check Sales Items"
   ]
  },
  {
   "cell_type": "code",
   "execution_count": 25,
   "metadata": {},
   "outputs": [],
   "source": [
    "def check_sales_item():\n",
    "    print(\"\\n\\n\")\n",
    "    count=0\n",
    "    mob = input(\"Enter Mobile No: \")\n",
    "    for m_key in record_sale:\n",
    "        if(record_sale[m_key]['Mobile']==mob):\n",
    "            count=1\n",
    "\n",
    "    if count==1:\n",
    "        print(f\"Customer ID: \" ,m_key)\n",
    "        print(f\"Mobile: \" ,record_sale[m_key][\"Mobile\"])\n",
    "        print(f\"Product Name: \" ,record_sale[m_key][\"Customer_Name\"])\n",
    "        print(f\"Mobile: \" ,record_sale[m_key][\"Mobile\"])\n",
    "    else:\n",
    "        print(f\"No customer with {mob} exists\")\n",
    "        "
   ]
  },
  {
   "cell_type": "markdown",
   "metadata": {},
   "source": [
    "### Function to Add Item Data"
   ]
  },
  {
   "cell_type": "code",
   "execution_count": 26,
   "metadata": {},
   "outputs": [],
   "source": [
    "def add_data():\n",
    "    print(\"\\n\\n\")\n",
    "    Item_ID = input(\"Enter Item ID: \")\n",
    "    Item_Name = input(\"Enter Item Name: \")\n",
    "    qn = int(input(\"Enter Quantity: \"))\n",
    "    pr = int(input(\"Enter Price: \"))\n",
    "    w = input(\"Enter Weight: \")\n",
    "    cate = input(\"Enter Category: \")\n",
    "    brand = input(\"Enter Brand: \")\n",
    "    record[Item_ID] = {\"Item Name\": Item_Name, \"Quantity\": qn, \"Price\": pr, \"Weight\": w, \"Category\": cate, \"Brand\": brand }\n",
    "    update_inventory()"
   ]
  },
  {
   "cell_type": "markdown",
   "metadata": {},
   "source": [
    "### Function to check Inventory & Sales"
   ]
  },
  {
   "cell_type": "code",
   "execution_count": 27,
   "metadata": {},
   "outputs": [],
   "source": [
    "def  check_inventory():\n",
    "    df=pd.DataFrame(record)\n",
    "    print(df)\n",
    "\n",
    "def  check_sales():\n",
    "    df1=pd.DataFrame(record_sale)\n",
    "    print(df1)"
   ]
  },
  {
   "cell_type": "markdown",
   "metadata": {},
   "source": [
    "### Function for Purchasing"
   ]
  },
  {
   "cell_type": "code",
   "execution_count": 28,
   "metadata": {},
   "outputs": [],
   "source": [
    "def purchase():\n",
    "    print(\"\\n\\n\")\n",
    "    name=input(\"Your name please: \") \n",
    "    phone=input(\"Your number please: \")\n",
    "    Item_ID = input(\"Enter Item ID: \")\n",
    "\n",
    "    if Item_ID in record.keys():\n",
    "        qn = int(input(\"Enter Quantity: \"))\n",
    "        if qn<=int(record[Item_ID][\"Quantity\"]):\n",
    "            print(f\"Product ID: {Item_ID}\")\n",
    "            print(f\"Product Name: \" ,record[Item_ID][\"Item Name\"])\n",
    "            print(f\"Price: \" ,record[Item_ID][\"Price\"])\n",
    "            print(f\"Total Amount: \" ,record[Item_ID][\"Price\"]*qn)\n",
    "\n",
    "            record[Item_ID][\"Quantity\"]=record[Item_ID][\"Quantity\"] - qn\n",
    "            #print(f\"Updated Quantity \" ,record[Item_ID][\"Quantity\"])\n",
    "            update_inventory()\n",
    "        \n",
    "            record_sale[len(record_sale)+1] = {\"Customer_Name\": name, \"Mobile\": phone, \"Item ID\": Item_ID, \"Quantity\": qn, \"Total_amount\": record[Item_ID][\"Price\"]*qn }\n",
    "            update_sales()\n",
    "        else:\n",
    "            print(\"Not that amount of item in stock\")\n",
    "    else:\n",
    "        print(f\"No item with {Item_ID} exists\")"
   ]
  },
  {
   "cell_type": "markdown",
   "metadata": {},
   "source": [
    "### Funtion to Update Inventory & Sales"
   ]
  },
  {
   "cell_type": "code",
   "execution_count": 29,
   "metadata": {},
   "outputs": [],
   "source": [
    "def update_inventory():\n",
    "    js = json.dumps(record)\n",
    "    fd = open(\"shoprecored.json\",'w')\n",
    "    fd.write(js)\n",
    "    fd.close()\n",
    "\n",
    "def update_sales():\n",
    "    js = json.dumps(record_sale)\n",
    "    fd1 = open(\"sales.json\",'w')\n",
    "    fd1.write(js)\n",
    "    fd1.close()"
   ]
  },
  {
   "cell_type": "markdown",
   "metadata": {},
   "source": [
    "### Main Program"
   ]
  },
  {
   "cell_type": "code",
   "execution_count": 30,
   "metadata": {},
   "outputs": [],
   "source": [
    "## print(\"\\n\\n                     Welcome to Inventary Management System\\n\\n\")\n",
    "c=1\n",
    "while(c==1):\n",
    "    print(\"\\n\\n                                 MAIN MENU\\n\\n\")\n",
    "    switch=int(input(\"Press:\\n1. Check Inventary record\\n2. Check Sales record\\n3. Add item in inventory\\n4. Make an Purchase\\n5. Check Inventary Item\\n6. Check Customer details\\n7. Update Inventary Item\\n8. Exit:    \"))\n",
    "    clear_output(wait=False)\n",
    "    if(switch==1):\n",
    "        check_inventory()\n",
    "    elif switch==2:\n",
    "        check_sales()\n",
    "    elif switch==3:\n",
    "        add_data()\n",
    "    elif switch==4:\n",
    "        purchase()\n",
    "    elif switch==5:\n",
    "        check_inventory_item()\n",
    "    elif switch == 6:\n",
    "        check_sales_item()\n",
    "    elif switch ==7:\n",
    "        update_item_inventory()\n",
    "    elif switch == 8:\n",
    "        c=0\n",
    "    else:\n",
    "        (\"Undefined Input\")"
   ]
  },
  {
   "cell_type": "code",
   "execution_count": null,
   "metadata": {},
   "outputs": [],
   "source": []
  }
 ],
 "metadata": {
  "kernelspec": {
   "display_name": "Python 3",
   "language": "python",
   "name": "python3"
  },
  "language_info": {
   "codemirror_mode": {
    "name": "ipython",
    "version": 3
   },
   "file_extension": ".py",
   "mimetype": "text/x-python",
   "name": "python",
   "nbconvert_exporter": "python",
   "pygments_lexer": "ipython3",
   "version": "3.8.6rc1"
  }
 },
 "nbformat": 4,
 "nbformat_minor": 4
}
